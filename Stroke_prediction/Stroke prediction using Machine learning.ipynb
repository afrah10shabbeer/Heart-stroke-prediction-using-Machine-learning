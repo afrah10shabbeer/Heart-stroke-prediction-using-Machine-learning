{
 "cells": [
  {
   "cell_type": "markdown",
   "id": "6aae80f5",
   "metadata": {},
   "source": [
    "# Importing the dependencies "
   ]
  },
  {
   "cell_type": "code",
   "execution_count": 429,
   "id": "e7053ec5",
   "metadata": {},
   "outputs": [],
   "source": [
    "import numpy as np\n",
    "import pandas as pd\n",
    "from sklearn.preprocessing import StandardScaler # To standardize data to a common range\n",
    "from sklearn.model_selection import train_test_split # To split data into training and testing\n",
    "from sklearn import svm # support vector machine\n",
    "from sklearn.metrics import accuracy_score # To check the accuracy"
   ]
  },
  {
   "cell_type": "markdown",
   "id": "cdedb86e",
   "metadata": {},
   "source": [
    "# Data collection and Analysis "
   ]
  },
  {
   "cell_type": "code",
   "execution_count": 430,
   "id": "1e06e603",
   "metadata": {},
   "outputs": [],
   "source": [
    "# Loadin the heart stroke dataset to a pandas DataFrame\n",
    "original_dataset = pd.read_csv('../Stroke_prediction/healthcare-dataset-stroke-data.csv')\n",
    "stroke_dataset = original_dataset.copy()"
   ]
  },
  {
   "cell_type": "markdown",
   "id": "ba2c4c48",
   "metadata": {},
   "source": [
    "# Data Cleaning"
   ]
  },
  {
   "cell_type": "code",
   "execution_count": 436,
   "id": "42cce1bf",
   "metadata": {},
   "outputs": [],
   "source": [
    "# After testing for all the columns, we observed that \"bmi\" column has some NaN\n",
    "# values, so we replace all the NaN's with mean value\n",
    "\n",
    "bmi_mean_value = stroke_dataset[\"bmi\"].mean()\n",
    "stroke_dataset[\"bmi\"].fillna(bmi_mean_value,inplace=True)\n"
   ]
  },
  {
   "cell_type": "markdown",
   "id": "8af8acdc",
   "metadata": {},
   "source": [
    "# Encoding all the categorical columns into numerical columns by manual labeling"
   ]
  },
  {
   "cell_type": "code",
   "execution_count": 437,
   "id": "c783b234",
   "metadata": {
    "scrolled": true
   },
   "outputs": [
    {
     "data": {
      "text/html": [
       "<div>\n",
       "<style scoped>\n",
       "    .dataframe tbody tr th:only-of-type {\n",
       "        vertical-align: middle;\n",
       "    }\n",
       "\n",
       "    .dataframe tbody tr th {\n",
       "        vertical-align: top;\n",
       "    }\n",
       "\n",
       "    .dataframe thead th {\n",
       "        text-align: right;\n",
       "    }\n",
       "</style>\n",
       "<table border=\"1\" class=\"dataframe\">\n",
       "  <thead>\n",
       "    <tr style=\"text-align: right;\">\n",
       "      <th></th>\n",
       "      <th>id</th>\n",
       "      <th>gender</th>\n",
       "      <th>age</th>\n",
       "      <th>hypertension</th>\n",
       "      <th>heart_disease</th>\n",
       "      <th>ever_married</th>\n",
       "      <th>work_type</th>\n",
       "      <th>Residence_type</th>\n",
       "      <th>avg_glucose_level</th>\n",
       "      <th>bmi</th>\n",
       "      <th>smoking_status</th>\n",
       "      <th>stroke</th>\n",
       "    </tr>\n",
       "  </thead>\n",
       "  <tbody>\n",
       "    <tr>\n",
       "      <th>0</th>\n",
       "      <td>9046</td>\n",
       "      <td>0</td>\n",
       "      <td>67.0</td>\n",
       "      <td>0</td>\n",
       "      <td>1</td>\n",
       "      <td>1</td>\n",
       "      <td>0</td>\n",
       "      <td>0</td>\n",
       "      <td>228.69</td>\n",
       "      <td>36.600000</td>\n",
       "      <td>0</td>\n",
       "      <td>1</td>\n",
       "    </tr>\n",
       "    <tr>\n",
       "      <th>1</th>\n",
       "      <td>51676</td>\n",
       "      <td>1</td>\n",
       "      <td>61.0</td>\n",
       "      <td>0</td>\n",
       "      <td>0</td>\n",
       "      <td>1</td>\n",
       "      <td>1</td>\n",
       "      <td>1</td>\n",
       "      <td>202.21</td>\n",
       "      <td>28.893237</td>\n",
       "      <td>1</td>\n",
       "      <td>1</td>\n",
       "    </tr>\n",
       "    <tr>\n",
       "      <th>2</th>\n",
       "      <td>31112</td>\n",
       "      <td>0</td>\n",
       "      <td>80.0</td>\n",
       "      <td>0</td>\n",
       "      <td>1</td>\n",
       "      <td>1</td>\n",
       "      <td>0</td>\n",
       "      <td>1</td>\n",
       "      <td>105.92</td>\n",
       "      <td>32.500000</td>\n",
       "      <td>1</td>\n",
       "      <td>1</td>\n",
       "    </tr>\n",
       "    <tr>\n",
       "      <th>3</th>\n",
       "      <td>60182</td>\n",
       "      <td>1</td>\n",
       "      <td>49.0</td>\n",
       "      <td>0</td>\n",
       "      <td>0</td>\n",
       "      <td>1</td>\n",
       "      <td>0</td>\n",
       "      <td>0</td>\n",
       "      <td>171.23</td>\n",
       "      <td>34.400000</td>\n",
       "      <td>2</td>\n",
       "      <td>1</td>\n",
       "    </tr>\n",
       "    <tr>\n",
       "      <th>4</th>\n",
       "      <td>1665</td>\n",
       "      <td>1</td>\n",
       "      <td>79.0</td>\n",
       "      <td>1</td>\n",
       "      <td>0</td>\n",
       "      <td>1</td>\n",
       "      <td>1</td>\n",
       "      <td>1</td>\n",
       "      <td>174.12</td>\n",
       "      <td>24.000000</td>\n",
       "      <td>1</td>\n",
       "      <td>1</td>\n",
       "    </tr>\n",
       "    <tr>\n",
       "      <th>...</th>\n",
       "      <td>...</td>\n",
       "      <td>...</td>\n",
       "      <td>...</td>\n",
       "      <td>...</td>\n",
       "      <td>...</td>\n",
       "      <td>...</td>\n",
       "      <td>...</td>\n",
       "      <td>...</td>\n",
       "      <td>...</td>\n",
       "      <td>...</td>\n",
       "      <td>...</td>\n",
       "      <td>...</td>\n",
       "    </tr>\n",
       "    <tr>\n",
       "      <th>5105</th>\n",
       "      <td>18234</td>\n",
       "      <td>1</td>\n",
       "      <td>80.0</td>\n",
       "      <td>1</td>\n",
       "      <td>0</td>\n",
       "      <td>1</td>\n",
       "      <td>0</td>\n",
       "      <td>0</td>\n",
       "      <td>83.75</td>\n",
       "      <td>28.893237</td>\n",
       "      <td>1</td>\n",
       "      <td>0</td>\n",
       "    </tr>\n",
       "    <tr>\n",
       "      <th>5106</th>\n",
       "      <td>44873</td>\n",
       "      <td>1</td>\n",
       "      <td>81.0</td>\n",
       "      <td>0</td>\n",
       "      <td>0</td>\n",
       "      <td>1</td>\n",
       "      <td>1</td>\n",
       "      <td>0</td>\n",
       "      <td>125.20</td>\n",
       "      <td>40.000000</td>\n",
       "      <td>1</td>\n",
       "      <td>0</td>\n",
       "    </tr>\n",
       "    <tr>\n",
       "      <th>5107</th>\n",
       "      <td>19723</td>\n",
       "      <td>1</td>\n",
       "      <td>35.0</td>\n",
       "      <td>0</td>\n",
       "      <td>0</td>\n",
       "      <td>1</td>\n",
       "      <td>1</td>\n",
       "      <td>1</td>\n",
       "      <td>82.99</td>\n",
       "      <td>30.600000</td>\n",
       "      <td>1</td>\n",
       "      <td>0</td>\n",
       "    </tr>\n",
       "    <tr>\n",
       "      <th>5108</th>\n",
       "      <td>37544</td>\n",
       "      <td>0</td>\n",
       "      <td>51.0</td>\n",
       "      <td>0</td>\n",
       "      <td>0</td>\n",
       "      <td>1</td>\n",
       "      <td>0</td>\n",
       "      <td>1</td>\n",
       "      <td>166.29</td>\n",
       "      <td>25.600000</td>\n",
       "      <td>0</td>\n",
       "      <td>0</td>\n",
       "    </tr>\n",
       "    <tr>\n",
       "      <th>5109</th>\n",
       "      <td>44679</td>\n",
       "      <td>1</td>\n",
       "      <td>44.0</td>\n",
       "      <td>0</td>\n",
       "      <td>0</td>\n",
       "      <td>1</td>\n",
       "      <td>2</td>\n",
       "      <td>0</td>\n",
       "      <td>85.28</td>\n",
       "      <td>26.200000</td>\n",
       "      <td>3</td>\n",
       "      <td>0</td>\n",
       "    </tr>\n",
       "  </tbody>\n",
       "</table>\n",
       "<p>5110 rows × 12 columns</p>\n",
       "</div>"
      ],
      "text/plain": [
       "         id  gender   age  hypertension  heart_disease  ever_married   \n",
       "0      9046       0  67.0             0              1             1  \\\n",
       "1     51676       1  61.0             0              0             1   \n",
       "2     31112       0  80.0             0              1             1   \n",
       "3     60182       1  49.0             0              0             1   \n",
       "4      1665       1  79.0             1              0             1   \n",
       "...     ...     ...   ...           ...            ...           ...   \n",
       "5105  18234       1  80.0             1              0             1   \n",
       "5106  44873       1  81.0             0              0             1   \n",
       "5107  19723       1  35.0             0              0             1   \n",
       "5108  37544       0  51.0             0              0             1   \n",
       "5109  44679       1  44.0             0              0             1   \n",
       "\n",
       "      work_type  Residence_type  avg_glucose_level        bmi  smoking_status   \n",
       "0             0               0             228.69  36.600000               0  \\\n",
       "1             1               1             202.21  28.893237               1   \n",
       "2             0               1             105.92  32.500000               1   \n",
       "3             0               0             171.23  34.400000               2   \n",
       "4             1               1             174.12  24.000000               1   \n",
       "...         ...             ...                ...        ...             ...   \n",
       "5105          0               0              83.75  28.893237               1   \n",
       "5106          1               0             125.20  40.000000               1   \n",
       "5107          1               1              82.99  30.600000               1   \n",
       "5108          0               1             166.29  25.600000               0   \n",
       "5109          2               0              85.28  26.200000               3   \n",
       "\n",
       "      stroke  \n",
       "0          1  \n",
       "1          1  \n",
       "2          1  \n",
       "3          1  \n",
       "4          1  \n",
       "...      ...  \n",
       "5105       0  \n",
       "5106       0  \n",
       "5107       0  \n",
       "5108       0  \n",
       "5109       0  \n",
       "\n",
       "[5110 rows x 12 columns]"
      ]
     },
     "execution_count": 437,
     "metadata": {},
     "output_type": "execute_result"
    }
   ],
   "source": [
    "def encode_categorical_columns(df):\n",
    "    \n",
    "    df[\"gender\"] = df[\"gender\"].map({\"Male\":0, \"Female\":1,\"Other\":2}) # Encode \"gender\" column\n",
    "    df[\"ever_married\"] = df[\"ever_married\"].map({\"Yes\":1,\"No\":0}) # Encode \"marital status\" column\n",
    "    df[\"work_type\"] = df[\"work_type\"].map({\"Private\":0,\"Self-employed\":1,\"Govt_job\":2,\"children\":3,\"Never_worked\":4})\n",
    "    df[\"Residence_type\"] = df[\"Residence_type\"].map({\"Urban\":0,\"Rural\":1})\n",
    "    df[\"smoking_status\"] = df[\"smoking_status\"].map({\"formerly smoked\":0,\"never smoked\":1,\"smokes\":2,\"Unknown\":3}) \n",
    "\n",
    "\n",
    "encode_categorical_columns(stroke_dataset)\n",
    "stroke_dataset"
   ]
  },
  {
   "cell_type": "markdown",
   "id": "9c675055",
   "metadata": {},
   "source": [
    "# features and target variable data separation"
   ]
  },
  {
   "cell_type": "code",
   "execution_count": 439,
   "id": "8cbdb8d1",
   "metadata": {},
   "outputs": [],
   "source": [
    "# Separting the data and labels\n",
    "X = stroke_dataset.drop(columns = \"stroke\",axis = 1) # Contains all the columns except result(stroke) column\n",
    "Y = stroke_dataset[\"stroke\"] # Constains only resultant(stroke) column\n"
   ]
  },
  {
   "cell_type": "markdown",
   "id": "6fc4db21",
   "metadata": {},
   "source": [
    "# Scaling the data from an irregular range to proper common range b/w (0 to 1)"
   ]
  },
  {
   "cell_type": "code",
   "execution_count": 440,
   "id": "78707710",
   "metadata": {},
   "outputs": [
    {
     "data": {
      "text/plain": [
       "array([[-1.29831203e+00, -1.18951055e+00,  1.05143428e+00, ...,\n",
       "         2.70637544e+00,  1.00123401e+00, -1.45138793e+00],\n",
       "       [ 7.16371490e-01,  8.39327541e-01,  7.86070073e-01, ...,\n",
       "         2.12155854e+00,  4.61555355e-16, -5.35985274e-01],\n",
       "       [-2.55478192e-01, -1.18951055e+00,  1.62639008e+00, ...,\n",
       "        -5.02830130e-03,  4.68577254e-01, -5.35985274e-01],\n",
       "       ...,\n",
       "       [-7.93719586e-01,  8.39327541e-01, -3.63841511e-01, ...,\n",
       "        -5.11442636e-01,  2.21736316e-01, -5.35985274e-01],\n",
       "       [ 4.84965773e-02, -1.18951055e+00,  3.43796387e-01, ...,\n",
       "         1.32825706e+00, -4.27845098e-01, -1.45138793e+00],\n",
       "       [ 3.85694957e-01,  8.39327541e-01,  3.42048064e-02, ...,\n",
       "        -4.60867458e-01, -3.49895329e-01,  1.29482004e+00]])"
      ]
     },
     "execution_count": 440,
     "metadata": {},
     "output_type": "execute_result"
    }
   ],
   "source": [
    "scaler = StandardScaler()\n",
    "scaler.fit(X)\n",
    "scaler.transform(X)"
   ]
  },
  {
   "cell_type": "markdown",
   "id": "4b46002e",
   "metadata": {},
   "source": [
    "# Splitting data into Training and Testing data"
   ]
  },
  {
   "cell_type": "code",
   "execution_count": 446,
   "id": "6c878626",
   "metadata": {},
   "outputs": [
    {
     "name": "stdout",
     "output_type": "stream",
     "text": [
      "(5110, 11) (4088, 11) (1022, 11)\n"
     ]
    }
   ],
   "source": [
    "# X_train ==> feature training set\n",
    "# X_test ==> feature testing set\n",
    "# Y_train ==>target variable training set\n",
    "# Y_test ==> target varibale testing set\n",
    "\n",
    "X_train, X_test,Y_train,Y_test = train_test_split(X,Y,test_size = 0.2,stratify = Y,random_state = 2)\n",
    "\n",
    "print(X.shape,X_train.shape,X_test.shape)"
   ]
  },
  {
   "cell_type": "markdown",
   "id": "d32c2f83",
   "metadata": {},
   "source": [
    "# Training the model using support vector machine"
   ]
  },
  {
   "cell_type": "code",
   "execution_count": 447,
   "id": "cc6ad173",
   "metadata": {},
   "outputs": [],
   "source": [
    "classifier = svm.SVC(kernel = \"linear\")"
   ]
  },
  {
   "cell_type": "code",
   "execution_count": 448,
   "id": "7259d3c7",
   "metadata": {},
   "outputs": [
    {
     "data": {
      "text/html": [
       "<style>#sk-container-id-14 {color: black;background-color: white;}#sk-container-id-14 pre{padding: 0;}#sk-container-id-14 div.sk-toggleable {background-color: white;}#sk-container-id-14 label.sk-toggleable__label {cursor: pointer;display: block;width: 100%;margin-bottom: 0;padding: 0.3em;box-sizing: border-box;text-align: center;}#sk-container-id-14 label.sk-toggleable__label-arrow:before {content: \"▸\";float: left;margin-right: 0.25em;color: #696969;}#sk-container-id-14 label.sk-toggleable__label-arrow:hover:before {color: black;}#sk-container-id-14 div.sk-estimator:hover label.sk-toggleable__label-arrow:before {color: black;}#sk-container-id-14 div.sk-toggleable__content {max-height: 0;max-width: 0;overflow: hidden;text-align: left;background-color: #f0f8ff;}#sk-container-id-14 div.sk-toggleable__content pre {margin: 0.2em;color: black;border-radius: 0.25em;background-color: #f0f8ff;}#sk-container-id-14 input.sk-toggleable__control:checked~div.sk-toggleable__content {max-height: 200px;max-width: 100%;overflow: auto;}#sk-container-id-14 input.sk-toggleable__control:checked~label.sk-toggleable__label-arrow:before {content: \"▾\";}#sk-container-id-14 div.sk-estimator input.sk-toggleable__control:checked~label.sk-toggleable__label {background-color: #d4ebff;}#sk-container-id-14 div.sk-label input.sk-toggleable__control:checked~label.sk-toggleable__label {background-color: #d4ebff;}#sk-container-id-14 input.sk-hidden--visually {border: 0;clip: rect(1px 1px 1px 1px);clip: rect(1px, 1px, 1px, 1px);height: 1px;margin: -1px;overflow: hidden;padding: 0;position: absolute;width: 1px;}#sk-container-id-14 div.sk-estimator {font-family: monospace;background-color: #f0f8ff;border: 1px dotted black;border-radius: 0.25em;box-sizing: border-box;margin-bottom: 0.5em;}#sk-container-id-14 div.sk-estimator:hover {background-color: #d4ebff;}#sk-container-id-14 div.sk-parallel-item::after {content: \"\";width: 100%;border-bottom: 1px solid gray;flex-grow: 1;}#sk-container-id-14 div.sk-label:hover label.sk-toggleable__label {background-color: #d4ebff;}#sk-container-id-14 div.sk-serial::before {content: \"\";position: absolute;border-left: 1px solid gray;box-sizing: border-box;top: 0;bottom: 0;left: 50%;z-index: 0;}#sk-container-id-14 div.sk-serial {display: flex;flex-direction: column;align-items: center;background-color: white;padding-right: 0.2em;padding-left: 0.2em;position: relative;}#sk-container-id-14 div.sk-item {position: relative;z-index: 1;}#sk-container-id-14 div.sk-parallel {display: flex;align-items: stretch;justify-content: center;background-color: white;position: relative;}#sk-container-id-14 div.sk-item::before, #sk-container-id-14 div.sk-parallel-item::before {content: \"\";position: absolute;border-left: 1px solid gray;box-sizing: border-box;top: 0;bottom: 0;left: 50%;z-index: -1;}#sk-container-id-14 div.sk-parallel-item {display: flex;flex-direction: column;z-index: 1;position: relative;background-color: white;}#sk-container-id-14 div.sk-parallel-item:first-child::after {align-self: flex-end;width: 50%;}#sk-container-id-14 div.sk-parallel-item:last-child::after {align-self: flex-start;width: 50%;}#sk-container-id-14 div.sk-parallel-item:only-child::after {width: 0;}#sk-container-id-14 div.sk-dashed-wrapped {border: 1px dashed gray;margin: 0 0.4em 0.5em 0.4em;box-sizing: border-box;padding-bottom: 0.4em;background-color: white;}#sk-container-id-14 div.sk-label label {font-family: monospace;font-weight: bold;display: inline-block;line-height: 1.2em;}#sk-container-id-14 div.sk-label-container {text-align: center;}#sk-container-id-14 div.sk-container {/* jupyter's `normalize.less` sets `[hidden] { display: none; }` but bootstrap.min.css set `[hidden] { display: none !important; }` so we also need the `!important` here to be able to override the default hidden behavior on the sphinx rendered scikit-learn.org. See: https://github.com/scikit-learn/scikit-learn/issues/21755 */display: inline-block !important;position: relative;}#sk-container-id-14 div.sk-text-repr-fallback {display: none;}</style><div id=\"sk-container-id-14\" class=\"sk-top-container\"><div class=\"sk-text-repr-fallback\"><pre>SVC(kernel=&#x27;linear&#x27;)</pre><b>In a Jupyter environment, please rerun this cell to show the HTML representation or trust the notebook. <br />On GitHub, the HTML representation is unable to render, please try loading this page with nbviewer.org.</b></div><div class=\"sk-container\" hidden><div class=\"sk-item\"><div class=\"sk-estimator sk-toggleable\"><input class=\"sk-toggleable__control sk-hidden--visually\" id=\"sk-estimator-id-14\" type=\"checkbox\" checked><label for=\"sk-estimator-id-14\" class=\"sk-toggleable__label sk-toggleable__label-arrow\">SVC</label><div class=\"sk-toggleable__content\"><pre>SVC(kernel=&#x27;linear&#x27;)</pre></div></div></div></div></div>"
      ],
      "text/plain": [
       "SVC(kernel='linear')"
      ]
     },
     "execution_count": 448,
     "metadata": {},
     "output_type": "execute_result"
    }
   ],
   "source": [
    "# Training the support vector machine classifier by giving the training data\n",
    "classifier.fit(X_train,Y_train)"
   ]
  },
  {
   "cell_type": "markdown",
   "id": "69678869",
   "metadata": {},
   "source": [
    "# Model Evaluation"
   ]
  },
  {
   "cell_type": "code",
   "execution_count": 449,
   "id": "e233389d",
   "metadata": {},
   "outputs": [
    {
     "name": "stdout",
     "output_type": "stream",
     "text": [
      "0.946917808219178\n"
     ]
    }
   ],
   "source": [
    "# Accuracy score on the training data\n",
    "X_train_prediction = classifier.predict(X_train)\n",
    "training_data_accuracy = accuracy_score(X_train_prediction,Y_train)\n",
    "print(training_data_accuracy)"
   ]
  },
  {
   "cell_type": "code",
   "execution_count": 450,
   "id": "2c667629",
   "metadata": {},
   "outputs": [
    {
     "name": "stdout",
     "output_type": "stream",
     "text": [
      "0.9412915851272016\n"
     ]
    }
   ],
   "source": [
    "# Accuracy score on the testing data\n",
    "X_test_prediction = classifier.predict(X_test)\n",
    "testing_data_accuracy = accuracy_score(X_test_prediction,Y_test)\n",
    "print(testing_data_accuracy)"
   ]
  },
  {
   "cell_type": "markdown",
   "id": "0d80420b",
   "metadata": {},
   "source": [
    "# Making a user input predictive system"
   ]
  },
  {
   "cell_type": "code",
   "execution_count": 451,
   "id": "9f3debc8",
   "metadata": {},
   "outputs": [
    {
     "name": "stdout",
     "output_type": "stream",
     "text": [
      "[0]\n"
     ]
    },
    {
     "name": "stderr",
     "output_type": "stream",
     "text": [
      "/home/afrah/.local/lib/python3.10/site-packages/sklearn/base.py:439: UserWarning: X does not have valid feature names, but StandardScaler was fitted with feature names\n",
      "  warnings.warn(\n",
      "/home/afrah/.local/lib/python3.10/site-packages/sklearn/base.py:439: UserWarning: X does not have valid feature names, but SVC was fitted with feature names\n",
      "  warnings.warn(\n"
     ]
    }
   ],
   "source": [
    "# Accuracy score on the user input data\n",
    "input_data = (9046,\"Male\",\"67.0\",0,1,\"Yes\",\"Private\",\"Urban\",228.69,36.6,\"formerly smoked\")\n",
    "\n",
    "# Assigning columns to the new input record dataframe\n",
    "input_df = pd.DataFrame.from_records([input_data], columns=X.columns)\n",
    "\n",
    "encode_categorical_columns(input_df)\n",
    "\n",
    "# Chaning the array into numpy array\n",
    "input_array = np.array(input_df.values)\n",
    "\n",
    "# Reshape the array as we are predicting for only one instance\n",
    "input_data_reshaped = input_array.reshape(1,-1)\n",
    "\n",
    "# Scaling the data\n",
    "scaled_data = scaler.transform(input_data_reshaped)\n",
    "\n",
    "\n",
    "prediction = classifier.predict(scaled_data)\n",
    "print(prediction)"
   ]
  },
  {
   "cell_type": "code",
   "execution_count": null,
   "id": "86057d09",
   "metadata": {},
   "outputs": [],
   "source": []
  },
  {
   "cell_type": "code",
   "execution_count": null,
   "id": "7df1473b",
   "metadata": {},
   "outputs": [],
   "source": []
  }
 ],
 "metadata": {
  "kernelspec": {
   "display_name": "Python 3 (ipykernel)",
   "language": "python",
   "name": "python3"
  },
  "language_info": {
   "codemirror_mode": {
    "name": "ipython",
    "version": 3
   },
   "file_extension": ".py",
   "mimetype": "text/x-python",
   "name": "python",
   "nbconvert_exporter": "python",
   "pygments_lexer": "ipython3",
   "version": "3.10.9"
  }
 },
 "nbformat": 4,
 "nbformat_minor": 5
}
